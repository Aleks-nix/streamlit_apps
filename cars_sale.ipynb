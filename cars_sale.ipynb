{
 "cells": [
  {
   "cell_type": "code",
   "execution_count": 1,
   "id": "psychological-bidding",
   "metadata": {},
   "outputs": [],
   "source": [
    "import pandas as pd\n",
    "from lightgbm import LGBMRegressor\n",
    "\n",
    "import joblib"
   ]
  },
  {
   "cell_type": "code",
   "execution_count": 2,
   "id": "exceptional-magnitude",
   "metadata": {},
   "outputs": [],
   "source": [
    "# Код для чтения данных\n",
    "df_autos_train = pd.read_csv('df_autos_train.csv')"
   ]
  },
  {
   "cell_type": "code",
   "execution_count": 3,
   "id": "dcba9246-32f2-42e9-854c-652ca7c0ca9b",
   "metadata": {},
   "outputs": [],
   "source": [
    "df_autos_train['Power'] = df_autos_train['Power'].fillna(0)\n",
    "df_autos_train = df_autos_train.query('Power != 0')\n",
    "df_autos_train['Power'] = df_autos_train['Power'].astype('int')\n",
    "df_autos_train = df_autos_train.drop(['NumberOfPictures', 'PostalCode'], axis=1)"
   ]
  },
  {
   "cell_type": "markdown",
   "id": "fatal-being",
   "metadata": {},
   "source": [
    "### LightGBM"
   ]
  },
  {
   "cell_type": "code",
   "execution_count": 4,
   "id": "opposite-portland",
   "metadata": {},
   "outputs": [],
   "source": [
    "# Поменяем тип данных на категориальный в следующих стобцах\n",
    "for col in ['VehicleType', 'Gearbox', 'Model', 'FuelType', 'Brand', 'NotRepaired']:\n",
    "    df_autos_train[col] = df_autos_train[col].astype('category')"
   ]
  },
  {
   "cell_type": "code",
   "execution_count": 5,
   "id": "strong-control",
   "metadata": {
    "scrolled": true,
    "tags": []
   },
   "outputs": [
    {
     "name": "stdout",
     "output_type": "stream",
     "text": [
      "<class 'pandas.core.frame.DataFrame'>\n",
      "Int64Index: 341855 entries, 0 to 341855\n",
      "Data columns (total 10 columns):\n",
      " #   Column            Non-Null Count   Dtype   \n",
      "---  ------            --------------   -----   \n",
      " 0   Price             341855 non-null  int64   \n",
      " 1   VehicleType       341855 non-null  category\n",
      " 2   RegistrationYear  341855 non-null  int64   \n",
      " 3   Gearbox           341855 non-null  category\n",
      " 4   Power             341855 non-null  int64   \n",
      " 5   Model             341855 non-null  category\n",
      " 6   Kilometer         341855 non-null  int64   \n",
      " 7   FuelType          341855 non-null  category\n",
      " 8   Brand             341855 non-null  category\n",
      " 9   NotRepaired       341855 non-null  category\n",
      "dtypes: category(6), int64(4)\n",
      "memory usage: 15.3 MB\n"
     ]
    }
   ],
   "source": [
    "df_autos_train.info()"
   ]
  },
  {
   "cell_type": "code",
   "execution_count": 6,
   "id": "3633723c-305d-4536-b3b2-f3caf7b39458",
   "metadata": {},
   "outputs": [],
   "source": [
    "# Выделим переменные признаки и признак, который нужно предсказать для каждой таблицы\n",
    "features = df_autos_train.drop('Price', axis=1)\n",
    "target = df_autos_train['Price']"
   ]
  },
  {
   "cell_type": "code",
   "execution_count": 7,
   "id": "cross-fountain",
   "metadata": {
    "scrolled": true
   },
   "outputs": [
    {
     "data": {
      "text/plain": [
       "LGBMRegressor(max_depth=6, n_estimators=500, num_leaves=40, random_state=12345)"
      ]
     },
     "execution_count": 7,
     "metadata": {},
     "output_type": "execute_result"
    }
   ],
   "source": [
    "model_lgbm = LGBMRegressor(random_state=12345, n_estimators=500, max_depth=6, num_leaves=40)\n",
    "model_lgbm.fit(features, target)"
   ]
  },
  {
   "cell_type": "code",
   "execution_count": 11,
   "id": "2668da43-2550-4080-b50a-793e35f976b6",
   "metadata": {},
   "outputs": [],
   "source": [
    "# joblib.dump(model_lgbm, 'lgb.pkl')\n",
    "# model_lgbm = joblib.load('lgb.pkl')"
   ]
  },
  {
   "cell_type": "code",
   "execution_count": 9,
   "id": "231493c6-3648-4241-bbfc-c630719722ec",
   "metadata": {},
   "outputs": [
    {
     "data": {
      "text/plain": [
       "Price                 3500\n",
       "VehicleType          coupe\n",
       "RegistrationYear      1997\n",
       "Gearbox             manual\n",
       "Power                  170\n",
       "Model                  3er\n",
       "Kilometer           150000\n",
       "FuelType            petrol\n",
       "Brand                  bmw\n",
       "NotRepaired             no\n",
       "Name: 123456, dtype: object"
      ]
     },
     "execution_count": 9,
     "metadata": {},
     "output_type": "execute_result"
    }
   ],
   "source": [
    "df_autos_train.loc[123456]"
   ]
  },
  {
   "cell_type": "code",
   "execution_count": 12,
   "id": "01727ee2-eedb-44c3-a2ae-e35820af1cfc",
   "metadata": {},
   "outputs": [],
   "source": [
    "features_test = [['coupe', 2000, 'manual', 170, '3er', 150000, 'petrol', 'bmw', 'no']]\n",
    "features_columns = features.columns\n",
    "df_test = pd.DataFrame(data = features_test, columns = features_columns)\n",
    "\n",
    "for col in ['VehicleType', 'Gearbox', 'Model', 'FuelType', 'Brand', 'NotRepaired']:\n",
    "    df_test[col] = df_test[col].astype('category')"
   ]
  },
  {
   "cell_type": "code",
   "execution_count": 13,
   "id": "constant-alert",
   "metadata": {},
   "outputs": [
    {
     "name": "stdout",
     "output_type": "stream",
     "text": [
      "Примерная стоимоть автомобиля: 4140 €\n"
     ]
    }
   ],
   "source": [
    "predictions = model_lgbm.predict(df_test)\n",
    "print(f'Примерная стоимоть автомобиля: {round(round(predictions[0], -1))} €')"
   ]
  },
  {
   "cell_type": "code",
   "execution_count": null,
   "id": "b5ace3f7-bdfd-4bcb-9aaf-349eafa53dab",
   "metadata": {},
   "outputs": [],
   "source": []
  }
 ],
 "metadata": {
  "kernelspec": {
   "display_name": "Python 3 (ipykernel)",
   "language": "python",
   "name": "python3"
  },
  "language_info": {
   "codemirror_mode": {
    "name": "ipython",
    "version": 3
   },
   "file_extension": ".py",
   "mimetype": "text/x-python",
   "name": "python",
   "nbconvert_exporter": "python",
   "pygments_lexer": "ipython3",
   "version": "3.8.2"
  },
  "toc": {
   "base_numbering": 1,
   "nav_menu": {},
   "number_sections": true,
   "sideBar": true,
   "skip_h1_title": true,
   "title_cell": "Содержание",
   "title_sidebar": "Contents",
   "toc_cell": true,
   "toc_position": {
    "height": "calc(100% - 180px)",
    "left": "10px",
    "top": "150px",
    "width": "288px"
   },
   "toc_section_display": true,
   "toc_window_display": true
  }
 },
 "nbformat": 4,
 "nbformat_minor": 5
}
